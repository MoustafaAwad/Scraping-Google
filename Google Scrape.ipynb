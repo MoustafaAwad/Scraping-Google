{
 "cells": [
  {
   "cell_type": "markdown",
   "metadata": {},
   "source": [
    "## ETL Homework part 1: \n",
    "### build a full stack web scraping ETL system\n",
    "    "
   ]
  },
  {
   "cell_type": "markdown",
   "metadata": {},
   "source": [
    "We are a web scraping consulting company trying to understand searchrank on Google for a number of clients. We want to build a data asset that tracks a number of keywords top search results."
   ]
  },
  {
   "cell_type": "code",
   "execution_count": 1,
   "metadata": {},
   "outputs": [],
   "source": [
    "#1:Build a mongodb collection that maintains a search terms you want to scrape\n",
    "#2:Build a mongodb collection (initially empty) that will store HTML data\n",
    "#3:Build a mongodb collection (initially empty) that will store search data\n",
    "#4:Build a function that makes requests to google that collects the\n",
    "#   results for the search terms listed in 1) and put them into HTML collection\n",
    "#5:Call the function from 4) to put HTML data into your HTML collection\n",
    "#6:Build a function that queries into the HTML data collection, finds any\n",
    "#   new information, and parses out some information you are interested in\n",
    "#   (you can be creative here. For instance, what were the top html links. \n",
    "#   You could also collect what web domains (github.com, ebay.com) show up)\n",
    "#   Store the output of this function into the \"search data\" collection\n",
    "#7:call the function from 6)"
   ]
  },
  {
   "cell_type": "code",
   "execution_count": 2,
   "metadata": {},
   "outputs": [],
   "source": [
    "import pymongo \n",
    "from splinter import Browser \n",
    "from datetime import datetime\n",
    "from bs4 import BeautifulSoup as bs\n",
    "from selenium import webdriver\n",
    "import pdb"
   ]
  },
  {
   "cell_type": "code",
   "execution_count": 3,
   "metadata": {},
   "outputs": [],
   "source": [
    "def web_driver(url):    # this is to visit the url as step 1 \n",
    "    browser = Browser('chrome',wait_time=10)\n",
    "    browser.visit(url)\n",
    "    html= browser.html\n",
    "    return html"
   ]
  },
  {
   "cell_type": "code",
   "execution_count": 4,
   "metadata": {},
   "outputs": [],
   "source": [
    "def mongo_connect(dbname):   # make a connection to the mongo db \n",
    "    conn= 'mongodb://localhost:27017'\n",
    "    client= pymongo.MongoClient(conn)\n",
    "    db= client[dbname]\n",
    "    return db "
   ]
  },
  {
   "cell_type": "code",
   "execution_count": 5,
   "metadata": {},
   "outputs": [],
   "source": [
    "def make_collection(dbname, collections):  # create a collection \n",
    "    db = mongo_connect(dbname)\n",
    "    collections= {c:db[c] for c in collections}\n",
    "    return db, collections\n",
    "    "
   ]
  },
  {
   "cell_type": "code",
   "execution_count": 6,
   "metadata": {},
   "outputs": [],
   "source": [
    "def insert_searchterms(dname,arr):  # a collection specifically for search terms  \n",
    "    db= mongo_connect(dname)\n",
    "    db.search_terms.insert_many([{'searchterm':name} for name in arr])\n",
    "    current_search= list(set([term['searchterm'] for term in db.search_terms.find()]))\n",
    "    return current_search"
   ]
  },
  {
   "cell_type": "code",
   "execution_count": 7,
   "metadata": {},
   "outputs": [],
   "source": [
    "def google_scrape_terms(dbname,terms, collections):   # scrape google and dump into html collection\n",
    "    db = mongo_connect(dbname)\n",
    "    for st in terms:\n",
    "        time=datetime.now()\n",
    "        url= 'https://www.google.com/search?safe=strict&sxsrf=ACYBGNRNfU-ARCBO1sM0NaI5Qs5seb8ghg%3A1571936418813&source=hp&ei=otixXeG8LtWCjLsPg5SV2A0&q='+st+'&oq='+st+'&gs_l=psy-ab.3..35i39j0l3j0i131j0l5.980.1495..1648...0.0..0.127.497.0j4......0....1..gws-wiz.m5c-W7Vvvzw&ved=0ahUKEwjhlea-r7XlAhVVAWMBHQNKBdsQ4dUDCAg&uact=5'\n",
    "        html= web_driver(url)\n",
    "        soup= bs(html,'html.parser')\n",
    "        thehtml=collections.insert_one({'Search term':st,'html':html,'time':time})\n",
    "    return thehtml, soup"
   ]
  },
  {
   "cell_type": "code",
   "execution_count": 8,
   "metadata": {},
   "outputs": [],
   "source": [
    "def read_htmlcol(tag,class_,clean):\n",
    "    raw=[]\n",
    "    cleaned=[]\n",
    "    for i in range(len(list(collections['rawhtml'].find()))):\n",
    "        soup= bs(list(collections['rawhtml'].find())[i]['html'])\n",
    "        if clean == False:\n",
    "            soupobject= soup(tag,class_)\n",
    "            raw.append(soupobject)\n",
    "\n",
    "        else: \n",
    "            soupobject= soup(tag,class_)\n",
    "            name= [t.text for t in soupobject]\n",
    "            cleaned.append(name)\n",
    "    return raw , cleaned"
   ]
  },
  {
   "cell_type": "code",
   "execution_count": 9,
   "metadata": {},
   "outputs": [],
   "source": [
    "def insert_intocol(current_search,collections,name):\n",
    "    for st in current_search:  \n",
    "        time=datetime.now()\n",
    "        collections.insert_many([{'Search term':st,'time':time,'title':t} for t in name])\n",
    "    return "
   ]
  },
  {
   "cell_type": "code",
   "execution_count": 10,
   "metadata": {},
   "outputs": [],
   "source": [
    "googledb = mongo_connect('googledb')"
   ]
  },
  {
   "cell_type": "code",
   "execution_count": 11,
   "metadata": {
    "scrolled": true
   },
   "outputs": [],
   "source": [
    "googledb, collections = make_collection('googledb',['search_terms','rawhtml','websites'])"
   ]
  },
  {
   "cell_type": "code",
   "execution_count": 12,
   "metadata": {},
   "outputs": [],
   "source": [
    "current_searchterms= insert_searchterms('googledb',['used cars','samsung s10','iphone xr','umberlla'])"
   ]
  },
  {
   "cell_type": "code",
   "execution_count": 13,
   "metadata": {
    "scrolled": true
   },
   "outputs": [],
   "source": [
    "thehtml, soup = google_scrape_terms('googledb',current_searchterms, collections['rawhtml'])"
   ]
  },
  {
   "cell_type": "code",
   "execution_count": 14,
   "metadata": {},
   "outputs": [],
   "source": [
    "websites= read_htmlcol(tag='div',class_='TbwUpd',clean = True)"
   ]
  },
  {
   "cell_type": "code",
   "execution_count": 15,
   "metadata": {},
   "outputs": [],
   "source": [
    "googleratings=  read_htmlcol(tag='div', class_='DYo30e', clean= True)"
   ]
  },
  {
   "cell_type": "code",
   "execution_count": 16,
   "metadata": {},
   "outputs": [],
   "source": [
    "insert_intocol(current_searchterms,collections['websites'],websites)"
   ]
  },
  {
   "cell_type": "code",
   "execution_count": 32,
   "metadata": {},
   "outputs": [
    {
     "data": {
      "text/plain": [
       "['used cars', 'samsung s10', 'umberlla', 'iphone xr']"
      ]
     },
     "execution_count": 32,
     "metadata": {},
     "output_type": "execute_result"
    }
   ],
   "source": [
    "current_searchterms"
   ]
  },
  {
   "cell_type": "code",
   "execution_count": 33,
   "metadata": {},
   "outputs": [
    {
     "data": {
      "text/plain": [
       "([],\n",
       " [['https://www.youtube.com › watch',\n",
       "   'https://www.amazon.com › umbrella › k=umbrella',\n",
       "   'nymag.com › strategist › article › best-umbrellas-compact-stick-golf',\n",
       "   'https://www.target.com › umbrellas-women-s-accessories',\n",
       "   'https://www.businessinsider.com › best-umbrella',\n",
       "   'https://en.m.wikipedia.org › wiki › Umbrella',\n",
       "   'https://m.timesofindia.com › articleshow',\n",
       "   'https://www.digitaltrends.com › dtdeals › best-windproof-umbrellas',\n",
       "   'https://www.totes.com › umbrellas',\n",
       "   'https://en.wikipedia.org › wiki › Umbrella',\n",
       "   'https://en.wikipedia.org › wiki › Umbrella_(song)',\n",
       "   'https://www.walmart.com › browse › clothing › umbrellas'],\n",
       "  ['https://www.samsung.com › mobile › galaxy-s10',\n",
       "   'https://www.samsung.com › global › galaxy › galaxy-s10',\n",
       "   'https://www.verizonwireless.com › smartphones › samsung-galaxy-s10',\n",
       "   'https://www.techradar.com › reviews › samsung-galaxy-s10',\n",
       "   'https://www.theguardian.com › technology › jun › samsung-galaxy-s10-revi...',\n",
       "   'https://www.bhphotovideo.com › explora › mobile › tips-and-solutions › 10...',\n",
       "   'https://www.cnet.com › news › galaxy-s10-vs-galaxy-s9-s10-plus-s10e-s10-...',\n",
       "   'https://www.bestbuy.com › ... › All Unlocked Cell Phones',\n",
       "   'https://www.t-mobile.com › Phones › Samsung',\n",
       "   'https://www.t-mobile.com › Phones › Samsung',\n",
       "   'https://www.amazon.com › Samsung-Galaxy-Factory-Unlocked-Phone',\n",
       "   'https://www.att.com › Wireless › Cell Phones › Samsung Galaxy S10',\n",
       "   'https://www.sprint.com › shop › cell-phones › samsung-galaxy-s10'],\n",
       "  ['https://www.cars.com › shopping',\n",
       "   'https://www.autotrader.com › used-cars',\n",
       "   'https://www.carfax.com › Used Cars',\n",
       "   'https://www.truecar.com › used-cars-for-sale › listings › location-paramus-nj',\n",
       "   'https://www.truecar.com › listings › location-hackensack-nj',\n",
       "   'https://www.carmax.com › cars',\n",
       "   'https://www.edmunds.com › used-cars-for-sale',\n",
       "   'https://www.dchparamushonda.com › Used Inventory',\n",
       "   'https://www.usedcars.com',\n",
       "   'https://www.autolist.com › guides › top-10-websites',\n",
       "   'https://www.motorbiscuit.com › used-cars-consumer-reports-gave-the-never-...',\n",
       "   'https://www.trustedchoice.com › insurance-articles › wheels-wings-motors',\n",
       "   'https://cars.usnews.com › cars-trucks › most-reliable-used-cars-under-10000'],\n",
       "  ['https://www.apple.com › shop › buy-iphone › iphone-xr',\n",
       "   'https://www.apple.com › iPhone › iPhone XR',\n",
       "   'https://www.techradar.com › deals › best-iphone-xr-deals',\n",
       "   'https://www.zdnet.com › article › apple-reveals-what-the-r-stands-for-in-iph...',\n",
       "   'https://www.tomsguide.com › iphone-xr,review-5868',\n",
       "   'https://www.t-mobile.com › Phones › Apple',\n",
       "   'https://www.verizonwireless.com › Smartphones › Apple',\n",
       "   'https://www.macrumors.com › roundup › iphone-xr',\n",
       "   'https://www.cnet.com › reviews › apple-iphone-xr-later-review',\n",
       "   'https://www.boostmobile.com › phones › apple-iphone-xr',\n",
       "   'https://en.wikipedia.org › wiki › IPhone_XR'],\n",
       "  ['AutoTrader.com › used-cars',\n",
       "   'AutoTrader.com › used-cars',\n",
       "   'Carfax › Used Cars',\n",
       "   'Carfax › Used Cars',\n",
       "   'TrueCar › used-cars-for-sale › listings › location-hackensack-nj',\n",
       "   'TrueCar › used-cars-for-sale › listings › location-hackensack-nj',\n",
       "   'Cars.com › shopping',\n",
       "   'Cars.com › shopping',\n",
       "   'https://www.autolist.com › guides › top-10-websites',\n",
       "   'https://www.autolist.com › guides › top-10-websites',\n",
       "   'https://www.motorbiscuit.com › used-cars-consumer-reports-gave-the-ne...',\n",
       "   'https://www.motorbiscuit.com › used-cars-consumer-reports-gave-the-ne...',\n",
       "   'https://www.trustedchoice.com › insurance-articles › wheels-wings-motors',\n",
       "   'https://www.trustedchoice.com › insurance-articles › wheels-wings-motors',\n",
       "   'https://cars.usnews.com › cars-trucks › most-reliable-used-cars-under-10...',\n",
       "   'https://cars.usnews.com › cars-trucks › most-reliable-used-cars-under-10...',\n",
       "   'Auto.com › cars-for-sale › hackensack-nj',\n",
       "   'Auto.com › cars-for-sale › hackensack-nj',\n",
       "   'CarMax › cars',\n",
       "   'CarMax › cars',\n",
       "   'Toyota of Hackensack',\n",
       "   'Toyota of Hackensack',\n",
       "   'https://www.allamericanfordofhackensack.com',\n",
       "   'https://www.allamericanfordofhackensack.com',\n",
       "   'Richard Catena',\n",
       "   'Richard Catena'],\n",
       "  ['https://www.samsung.com › mobile › galaxy-s10',\n",
       "   'https://www.samsung.com › global › galaxy › galaxy-s10',\n",
       "   'https://www.techradar.com › reviews › samsung-galaxy-s10',\n",
       "   'https://www.bhphotovideo.com › explora › mobile › tips-and-solutions › 10...',\n",
       "   'https://www.cnet.com › news › galaxy-s10-vs-galaxy-s9-s10-plus-s10e-s10-...',\n",
       "   'https://www.verizonwireless.com › smartphones › samsung-galaxy-s10',\n",
       "   'https://www.bestbuy.com › ... › All Unlocked Cell Phones',\n",
       "   'https://www.t-mobile.com › Phones › Samsung',\n",
       "   'https://www.t-mobile.com › Phones › Samsung',\n",
       "   'https://www.amazon.com › Samsung-Galaxy-Factory-Unlocked-Phone',\n",
       "   'https://www.forbes.com › sites › gordonkelly › 2019/11/05 › samsung-gal...'],\n",
       "  ['https://www.amazon.com › umbrella › k=umbrella',\n",
       "   'https://en.wikipedia.org › wiki › Umbrella',\n",
       "   'https://www.totes.com › umbrellas',\n",
       "   'nymag.com › strategist › article › best-umbrellas-compact-stick-golf',\n",
       "   'https://www.businessinsider.com › best-umbrella',\n",
       "   'https://www.deviantart.com › aurion-tenosai › journal › Truth-about-Rihann...',\n",
       "   'https://www.thoughtco.com › who-invented-the-umbrella-1992592',\n",
       "   'windproofumbrellareviews.co.uk › windproof-umbrella › windproof-umbrel...',\n",
       "   \"https://www.target.com › Women › Women's Accessories\",\n",
       "   'https://www.gq.com › story › the-best-umbrellas',\n",
       "   'https://davekny.com › collections › umbrellas2'],\n",
       "  ['https://www.apple.com › shop › buy-iphone › iphone-xr',\n",
       "   'https://www.zdnet.com › article › apple-reveals-what-the-r-stands-for-in-iph...',\n",
       "   'https://mashable.com › feature › iphone-xr-review',\n",
       "   'https://www.trustedreviews.com › news › iphone-xs-vs-iphone-xr-3614356',\n",
       "   'https://www.techradar.com › deals › best-iphone-xr-deals',\n",
       "   'https://www.apple.com › iPhone › iPhone XR',\n",
       "   'https://www.macrumors.com › roundup › iphone-xr',\n",
       "   'https://www.amazon.com › Apple-iPhone-XR-64GB-exclusively',\n",
       "   'https://www.t-mobile.com › Phones › Apple',\n",
       "   'https://www.cnet.com › reviews › apple-iphone-xr-later-review']])"
      ]
     },
     "execution_count": 33,
     "metadata": {},
     "output_type": "execute_result"
    }
   ],
   "source": [
    "websites"
   ]
  },
  {
   "cell_type": "code",
   "execution_count": null,
   "metadata": {},
   "outputs": [],
   "source": []
  }
 ],
 "metadata": {
  "kernelspec": {
   "display_name": "Python 3",
   "language": "python",
   "name": "python3"
  },
  "language_info": {
   "codemirror_mode": {
    "name": "ipython",
    "version": 3
   },
   "file_extension": ".py",
   "mimetype": "text/x-python",
   "name": "python",
   "nbconvert_exporter": "python",
   "pygments_lexer": "ipython3",
   "version": "3.7.5"
  }
 },
 "nbformat": 4,
 "nbformat_minor": 2
}
